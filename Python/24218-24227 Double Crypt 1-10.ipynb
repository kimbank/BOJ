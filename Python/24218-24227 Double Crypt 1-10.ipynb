{
 "cells": [
  {
   "cell_type": "markdown",
   "metadata": {},
   "source": [
    "## pycrypto 설치"
   ]
  },
  {
   "cell_type": "code",
   "execution_count": null,
   "metadata": {},
   "outputs": [],
   "source": [
    "# 인코딩 및 디코딩 위해 설치\n",
    "%pip install pycryptodome\n",
    "\n",
    "# 프로그래스 바 위해 설치\n",
    "%pip install tqdm"
   ]
  },
  {
   "cell_type": "markdown",
   "metadata": {},
   "source": [
    "## 라이브러리"
   ]
  },
  {
   "cell_type": "code",
   "execution_count": 1,
   "metadata": {},
   "outputs": [],
   "source": [
    "from Crypto.Cipher import AES\n",
    "from tqdm import tqdm\n",
    "import random\n",
    "\n",
    "PTEXT = bytes(32)\n",
    "CTEXT = bytes(32)"
   ]
  },
  {
   "cell_type": "markdown",
   "metadata": {},
   "source": [
    "## 함수"
   ]
  },
  {
   "cell_type": "code",
   "execution_count": 2,
   "metadata": {},
   "outputs": [],
   "source": [
    "def key_generator(num, s):\n",
    "    '''string 타입의 키를 생성하는 함수'''\n",
    "    return hex(num)[2:].rjust(s,\"0\").ljust(32,\"0\")\n",
    "\n",
    "def range_shuffle(length):\n",
    "    '''뒤섞인 리스트를 생성하는 함수'''\n",
    "    SL = list(range(length))\n",
    "    random.shuffle(SL)\n",
    "\n",
    "    return SL\n",
    "\n",
    "def key_verifier(k1, k2):\n",
    "    '''k1과 k2를 검증하는 함수'''\n",
    "    ptext_out = AES.new(k1, AES.MODE_CBC, IV=b\"\\x00\"*16).decrypt(\n",
    "        AES.new(k2, AES.MODE_CBC, IV=b\"\\x00\"*16).decrypt(CTEXT)\n",
    "    )\n",
    "    \n",
    "    ctext_out = AES.new(k2, AES.MODE_CBC, IV=b\"\\x00\"*16).encrypt(\n",
    "        AES.new(k1, AES.MODE_CBC, IV=b\"\\x00\"*16).encrypt(PTEXT)\n",
    "    )\n",
    "\n",
    "    if PTEXT == ptext_out and CTEXT == ctext_out :\n",
    "        return True\n",
    "\n",
    "def Solution(S, P, C2):\n",
    "    '''답을 출력하는 함수'''\n",
    "    global PTEXT, CTEXT\n",
    "    \n",
    "    PTEXT = bytes.fromhex(P)\n",
    "    CTEXT = bytes.fromhex(C2)\n",
    "\n",
    "    for _ in tqdm(range_shuffle(16**S)) :\n",
    "        k1 = bytes.fromhex(key_generator(_, S))\n",
    "\n",
    "        for __ in range_shuffle(16**S) :\n",
    "            k2 = bytes.fromhex(key_generator(__, S))\n",
    "            \n",
    "            if key_verifier(k1, k2):\n",
    "                print(\n",
    "                    f\"k1: {k1.hex().upper()}\",\n",
    "                    f\"k2: {k2.hex().upper()}\", sep=\"\\n\"\n",
    "                )\n",
    "                break\n",
    "        else: continue\n",
    "        \n",
    "        break"
   ]
  },
  {
   "cell_type": "markdown",
   "metadata": {},
   "source": [
    "## Double Crypt 1"
   ]
  },
  {
   "cell_type": "code",
   "execution_count": 3,
   "metadata": {},
   "outputs": [
    {
     "name": "stderr",
     "output_type": "stream",
     "text": [
      " 31%|███▏      | 5/16 [00:00<00:00, 1004.09it/s]"
     ]
    },
    {
     "name": "stdout",
     "output_type": "stream",
     "text": [
      "k1: A0000000000000000000000000000000\n",
      "k2: 70000000000000000000000000000000\n"
     ]
    },
    {
     "name": "stderr",
     "output_type": "stream",
     "text": [
      "\n"
     ]
    }
   ],
   "source": [
    "'''1\n",
    "00112233445566778899AABBCCDDEEFF\n",
    "6323B4A5BC16C479ED6D94F5B58FF0C2\n",
    "'''\n",
    "\n",
    "Solution(\n",
    "    1,\n",
    "    \"00112233445566778899AABBCCDDEEFF\",\n",
    "    \"6323B4A5BC16C479ED6D94F5B58FF0C2\"\n",
    ")"
   ]
  },
  {
   "cell_type": "markdown",
   "metadata": {},
   "source": [
    "## Double Crypt 2"
   ]
  },
  {
   "cell_type": "code",
   "execution_count": 4,
   "metadata": {},
   "outputs": [
    {
     "name": "stderr",
     "output_type": "stream",
     "text": [
      " 88%|████████▊ | 14/16 [00:00<00:00, 269.93it/s]"
     ]
    },
    {
     "name": "stdout",
     "output_type": "stream",
     "text": [
      "k1: C0000000000000000000000000000000\n",
      "k2: 50000000000000000000000000000000\n"
     ]
    },
    {
     "name": "stderr",
     "output_type": "stream",
     "text": [
      "\n"
     ]
    }
   ],
   "source": [
    "'''1\n",
    "3FCFAA530B83FAC26C3AF18C958F0665\n",
    "68F4005C13000809D9F5F090C36FD0F2\n",
    "'''\n",
    "Solution(\n",
    "    1,\n",
    "    \"3FCFAA530B83FAC26C3AF18C958F0665\",\n",
    "    \"68F4005C13000809D9F5F090C36FD0F2\"\n",
    ")"
   ]
  },
  {
   "cell_type": "markdown",
   "metadata": {},
   "source": [
    "## Double Crypt 3"
   ]
  },
  {
   "cell_type": "code",
   "execution_count": 5,
   "metadata": {},
   "outputs": [
    {
     "name": "stderr",
     "output_type": "stream",
     "text": [
      " 23%|██▎       | 59/256 [00:00<00:02, 88.43it/s]"
     ]
    },
    {
     "name": "stdout",
     "output_type": "stream",
     "text": [
      "k1: A7000000000000000000000000000000\n",
      "k2: 6E000000000000000000000000000000\n"
     ]
    },
    {
     "name": "stderr",
     "output_type": "stream",
     "text": [
      "\n"
     ]
    }
   ],
   "source": [
    "'''2\n",
    "20012001200120012001200120012001\n",
    "9B4AF5F399003A4AFF6D1FC0743E34FF\n",
    "'''\n",
    "\n",
    "Solution(\n",
    "    2,\n",
    "    \"20012001200120012001200120012001\",\n",
    "    \"9B4AF5F399003A4AFF6D1FC0743E34FF\"\n",
    ")"
   ]
  },
  {
   "cell_type": "markdown",
   "metadata": {},
   "source": [
    "## Double Crypt 4"
   ]
  },
  {
   "cell_type": "code",
   "execution_count": 6,
   "metadata": {},
   "outputs": [
    {
     "name": "stderr",
     "output_type": "stream",
     "text": [
      " 96%|█████████▌| 245/256 [00:02<00:00, 90.24it/s]"
     ]
    },
    {
     "name": "stdout",
     "output_type": "stream",
     "text": [
      "k1: E1000000000000000000000000000000\n",
      "k2: 8A000000000000000000000000000000\n"
     ]
    },
    {
     "name": "stderr",
     "output_type": "stream",
     "text": [
      "\n"
     ]
    }
   ],
   "source": [
    "'''2\n",
    "CBF1F1840B32AD1FF76A86FAE9034526\n",
    "20012001200120012001200120012001\n",
    "'''\n",
    "\n",
    "Solution(\n",
    "    2,\n",
    "    \"CBF1F1840B32AD1FF76A86FAE9034526\",\n",
    "    \"20012001200120012001200120012001\"\n",
    ")"
   ]
  },
  {
   "cell_type": "markdown",
   "metadata": {},
   "source": [
    "## Double Crypt 5"
   ]
  },
  {
   "cell_type": "code",
   "execution_count": null,
   "metadata": {},
   "outputs": [],
   "source": [
    "'''4\n",
    "7F5471276E955708D0BF998EB40E99AA\n",
    "9E68E681898349BC4ECAB33DC530E9B9\n",
    "'''\n",
    "\n",
    "Solution(\n",
    "    4,\n",
    "    \"7F5471276E955708D0BF998EB40E99AA\",\n",
    "    \"9E68E681898349BC4ECAB33DC530E9B9\"\n",
    ")"
   ]
  },
  {
   "cell_type": "markdown",
   "metadata": {},
   "source": [
    "## Double Crypt 6"
   ]
  },
  {
   "cell_type": "code",
   "execution_count": null,
   "metadata": {},
   "outputs": [],
   "source": [
    "'''4\n",
    "7F5471276E955708D0BF998EB40E99AA\n",
    "FB8E04CEE94601A32F30E35FC18C54C9\n",
    "'''\n",
    "\n",
    "Solution(\n",
    "    4,\n",
    "    \"7F5471276E955708D0BF998EB40E99AA\",\n",
    "    \"FB8E04CEE94601A32F30E35FC18C54C9\"\n",
    ")"
   ]
  },
  {
   "cell_type": "markdown",
   "metadata": {},
   "source": [
    "## Double Crypt 7"
   ]
  },
  {
   "cell_type": "code",
   "execution_count": null,
   "metadata": {},
   "outputs": [],
   "source": [
    "'''4\n",
    "7F5471276E955708D0BF998EB40E99AA\n",
    "CB4AFEC5C0F4A1C381F014E740A2E508\n",
    "'''\n",
    "\n",
    "Solution(\n",
    "    4,\n",
    "    \"7F5471276E955708D0BF998EB40E99AA\",\n",
    "    \"CB4AFEC5C0F4A1C381F014E740A2E508\"\n",
    ")"
   ]
  },
  {
   "cell_type": "markdown",
   "metadata": {},
   "source": [
    "## Double Crypt 8"
   ]
  },
  {
   "cell_type": "code",
   "execution_count": null,
   "metadata": {},
   "outputs": [],
   "source": [
    "'''5\n",
    "535A0B970CAF68E68F541AB12636FA7F\n",
    "20012001200120012001200120012001\n",
    "'''\n",
    "\n",
    "Solution(\n",
    "    5,\n",
    "    \"535A0B970CAF68E68F541AB12636FA7F\",\n",
    "    \"20012001200120012001200120012001\"\n",
    ")"
   ]
  },
  {
   "cell_type": "markdown",
   "metadata": {},
   "source": [
    "## Double Crypt 9"
   ]
  },
  {
   "cell_type": "code",
   "execution_count": null,
   "metadata": {},
   "outputs": [],
   "source": [
    "'''5\n",
    "20012001200120012001200120012001\n",
    "9B4AF5F399003A4AFF6D1FC0743E34FF\n",
    "'''\n",
    "\n",
    "Solution(\n",
    "    5,\n",
    "    \"20012001200120012001200120012001\",\n",
    "    \"9B4AF5F399003A4AFF6D1FC0743E34FF\"\n",
    ")"
   ]
  },
  {
   "cell_type": "markdown",
   "metadata": {},
   "source": [
    "## Double Crypt 10"
   ]
  },
  {
   "cell_type": "code",
   "execution_count": null,
   "metadata": {},
   "outputs": [],
   "source": [
    "'''5\n",
    "FA101AB101BC101CD101DE101EF101FA\n",
    "3466A8C34427239F2AD9E0DE3188A8E3\n",
    "'''\n",
    "\n",
    "Solution(\n",
    "    5,\n",
    "    \"FA101AB101BC101CD101DE101EF101FA\",\n",
    "    \"3466A8C34427239F2AD9E0DE3188A8E3\"\n",
    ")"
   ]
  }
 ],
 "metadata": {
  "kernelspec": {
   "display_name": "Python 3.8.0 64-bit",
   "language": "python",
   "name": "python3"
  },
  "language_info": {
   "codemirror_mode": {
    "name": "ipython",
    "version": 3
   },
   "file_extension": ".py",
   "mimetype": "text/x-python",
   "name": "python",
   "nbconvert_exporter": "python",
   "pygments_lexer": "ipython3",
   "version": "3.8.0"
  },
  "orig_nbformat": 4,
  "vscode": {
   "interpreter": {
    "hash": "748a0316d080df60b2d74360ef0515a6555f49b356f8d9614176781acc1d2ef0"
   }
  }
 },
 "nbformat": 4,
 "nbformat_minor": 2
}
